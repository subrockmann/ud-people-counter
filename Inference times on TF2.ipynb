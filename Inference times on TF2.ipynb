{
 "cells": [
  {
   "cell_type": "markdown",
   "metadata": {},
   "source": [
    "# Object detection with in images using cv2 and tf2.0"
   ]
  },
  {
   "cell_type": "code",
   "execution_count": 54,
   "metadata": {},
   "outputs": [],
   "source": [
    "from pathlib import Path\n",
    "import cv2\n",
    "import numpy as np\n",
    "from matplotlib import pyplot as plt\n",
    "from PIL import Image\n",
    "import tensorflow as tf\n",
    "from tensorflow.python import ops\n",
    "import sys\n",
    "import time\n",
    "import psutil"
   ]
  },
  {
   "cell_type": "code",
   "execution_count": 29,
   "metadata": {},
   "outputs": [
    {
     "name": "stdout",
     "output_type": "stream",
     "text": [
      "2.2.0\n"
     ]
    }
   ],
   "source": [
    "print(tf.__version__)"
   ]
  },
  {
   "cell_type": "code",
   "execution_count": 30,
   "metadata": {},
   "outputs": [],
   "source": [
    "%matplotlib inline"
   ]
  },
  {
   "cell_type": "code",
   "execution_count": 31,
   "metadata": {},
   "outputs": [],
   "source": [
    "def create_input_tensor(image):\n",
    "    image = np.asarray(image)\n",
    "    # The input needs to be a tensor, convert it using `tf.convert_to_tensor`.\n",
    "    input_tensor = tf.convert_to_tensor(image)\n",
    "    # The model expects a batch of images, so add an axis with `tf.newaxis`.\n",
    "    input_tensor = input_tensor[tf.newaxis,...]\n",
    "    return input_tensor"
   ]
  },
  {
   "cell_type": "code",
   "execution_count": 32,
   "metadata": {},
   "outputs": [],
   "source": [
    "image = Image.open('./images/Keller-Sutter.jpg')"
   ]
  },
  {
   "cell_type": "code",
   "execution_count": 33,
   "metadata": {},
   "outputs": [],
   "source": [
    "input_tensor = create_input_tensor(image)"
   ]
  },
  {
   "cell_type": "code",
   "execution_count": 61,
   "metadata": {},
   "outputs": [],
   "source": [
    "#model_name = \"ssd_inception_v2_coco_2018_01_28\"\n",
    "#model_name = \"ssd_mobilenet_v2_coco_2018_03_29\"\n",
    "model_name = \"faster_rcnn_inception_v2_coco_2018_01_28\""
   ]
  },
  {
   "cell_type": "code",
   "execution_count": 62,
   "metadata": {},
   "outputs": [],
   "source": [
    "def download_model(model_name):\n",
    "    \"\"\"Loading the model from the url\"\"\"\n",
    "    base_url = 'http://download.tensorflow.org/models/object_detection/'\n",
    "    model_file = model_name + '.tar.gz'\n",
    "    model_dir = tf.keras.utils.get_file(\n",
    "      fname=model_name,\n",
    "      origin=base_url + model_file,\n",
    "      untar=True,\n",
    "      cache_dir = \"models\") # save to file directory\n",
    "    return model_dir"
   ]
  },
  {
   "cell_type": "code",
   "execution_count": 63,
   "metadata": {},
   "outputs": [
    {
     "name": "stdout",
     "output_type": "stream",
     "text": [
      "Downloading data from http://download.tensorflow.org/models/object_detection/faster_rcnn_inception_v2_coco_2018_01_28.tar.gz\n",
      "149127168/149119618 [==============================] - 118s 1us/step\n"
     ]
    }
   ],
   "source": [
    "model_dir = download_model(model_name)"
   ]
  },
  {
   "cell_type": "code",
   "execution_count": 64,
   "metadata": {},
   "outputs": [
    {
     "name": "stdout",
     "output_type": "stream",
     "text": [
      "G:\\Udacity Edge AI ND\\Project 1\\models\\datasets\\faster_rcnn_inception_v2_coco_2018_01_28\\saved_model\n"
     ]
    }
   ],
   "source": [
    "model_dir = Path.cwd().joinpath('models', 'datasets', model_name, 'saved_model') \n",
    "print(model_dir)"
   ]
  },
  {
   "cell_type": "code",
   "execution_count": 65,
   "metadata": {},
   "outputs": [
    {
     "name": "stdout",
     "output_type": "stream",
     "text": [
      "INFO:tensorflow:Saver not created because there are no variables in the graph to restore\n"
     ]
    }
   ],
   "source": [
    "model = tf.saved_model.load(str(model_dir), tags=None)\n",
    "model = model.signatures['serving_default']"
   ]
  },
  {
   "cell_type": "code",
   "execution_count": 66,
   "metadata": {},
   "outputs": [
    {
     "name": "stdout",
     "output_type": "stream",
     "text": [
      "10625.02734375\n"
     ]
    }
   ],
   "source": [
    "total_bytes = psutil.virtual_memory()[3]\n",
    "MB = total_bytes/(1024*1024)\n",
    "print(MB)"
   ]
  },
  {
   "cell_type": "code",
   "execution_count": 67,
   "metadata": {},
   "outputs": [
    {
     "name": "stdout",
     "output_type": "stream",
     "text": [
      "0\n",
      "10\n",
      "20\n",
      "30\n",
      "40\n",
      "50\n",
      "60\n",
      "70\n",
      "80\n",
      "90\n",
      "Model name: faster_rcnn_inception_v2_coco_2018_01_28\n",
      "Average inference time: 0.6033855366706848s\n"
     ]
    }
   ],
   "source": [
    "number_inferences = 100\n",
    "# run inference for multiple times\n",
    "start_time = time.time()\n",
    "for count in range(number_inferences):\n",
    "    if count % 10==0:\n",
    "        print(count)\n",
    "    # get prediction\n",
    "    output_dict = model(input_tensor)\n",
    "duration = time.time() - start_time\n",
    "avg_duration = duration /number_inferences\n",
    "print(f\"Model name: {model_name}\")\n",
    "print(f\"Average inference time: {avg_duration}s\")"
   ]
  },
  {
   "cell_type": "code",
   "execution_count": 50,
   "metadata": {},
   "outputs": [],
   "source": [
    "num_detections = int(output_dict.pop('num_detections'))\n",
    "output_dict = {key:value[0, :num_detections].numpy() \n",
    "                 for key,value in output_dict.items()}\n",
    "output_dict['num_detections'] = num_detections\n",
    "\n",
    "# detection_classes should be ints.\n",
    "output_dict['detection_classes'] = output_dict['detection_classes'].astype(np.int64)"
   ]
  },
  {
   "cell_type": "code",
   "execution_count": 53,
   "metadata": {},
   "outputs": [
    {
     "name": "stdout",
     "output_type": "stream",
     "text": [
      "[[0.10947913 0.22465327 1.         0.7916198 ]]\n"
     ]
    }
   ],
   "source": [
    "boxes = output_dict['detection_boxes']\n",
    "print(boxes)"
   ]
  },
  {
   "cell_type": "code",
   "execution_count": null,
   "metadata": {},
   "outputs": [],
   "source": []
  }
 ],
 "metadata": {
  "kernelspec": {
   "display_name": "Python 3",
   "language": "python",
   "name": "python3"
  },
  "language_info": {
   "codemirror_mode": {
    "name": "ipython",
    "version": 3
   },
   "file_extension": ".py",
   "mimetype": "text/x-python",
   "name": "python",
   "nbconvert_exporter": "python",
   "pygments_lexer": "ipython3",
   "version": "3.7.7"
  }
 },
 "nbformat": 4,
 "nbformat_minor": 4
}
